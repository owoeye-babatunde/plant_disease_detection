{
 "cells": [
  {
   "cell_type": "markdown",
   "metadata": {},
   "source": [
    "   # Corn Leaves Desease Detection"
   ]
  },
  {
   "cell_type": "code",
   "execution_count": 1,
   "metadata": {
    "execution": {
     "iopub.execute_input": "2022-10-08T16:28:45.900058Z",
     "iopub.status.busy": "2022-10-08T16:28:45.899474Z",
     "iopub.status.idle": "2022-10-08T16:28:48.863726Z",
     "shell.execute_reply": "2022-10-08T16:28:48.862761Z",
     "shell.execute_reply.started": "2022-10-08T16:28:45.899955Z"
    }
   },
   "outputs": [],
   "source": [
    "#Importing necessary libraries\n",
    "%matplotlib inline\n",
    "%config InlineBackend.figure_format = 'retina'\n",
    "import matplotlib.pyplot as plt\n",
    "from pylab import savefig\n",
    "import torch\n",
    "from torchvision import datasets, transforms, models\n",
    "from torch import nn, optim\n",
    "import torch.nn.functional as F\n",
    "from collections import OrderedDict\n",
    "from PIL import Image\n",
    "import numpy as np\n",
    "import pandas as pd\n",
    "import seaborn as sns\n",
    "from sklearn.metrics import confusion_matrix, precision_recall_fscore_support"
   ]
  },
  {
   "cell_type": "code",
   "execution_count": 2,
   "metadata": {
    "execution": {
     "iopub.execute_input": "2022-10-08T16:28:48.866507Z",
     "iopub.status.busy": "2022-10-08T16:28:48.865954Z",
     "iopub.status.idle": "2022-10-08T16:28:48.981047Z",
     "shell.execute_reply": "2022-10-08T16:28:48.980116Z",
     "shell.execute_reply.started": "2022-10-08T16:28:48.866470Z"
    }
   },
   "outputs": [
    {
     "name": "stdout",
     "output_type": "stream",
     "text": [
      "/kaggle/input/corn-leaves/cornleaves_disease/test/stewart/stewart46.jpg\n",
      "/kaggle/input/corn-leaves/cornleaves_disease/test/stewart/stewart48.jpg\n",
      "/kaggle/input/corn-leaves/cornleaves_disease/test/stewart/stewart41.jpg\n",
      "/kaggle/input/corn-leaves/cornleaves_disease/test/stewart/stewart50.jpg\n",
      "/kaggle/input/corn-leaves/cornleaves_disease/test/stewart/stewart43.jpg\n",
      "/kaggle/input/corn-leaves/cornleaves_disease/test/stewart/stewart45.jpg\n",
      "/kaggle/input/corn-leaves/cornleaves_disease/test/stewart/stewart47.jpg\n",
      "/kaggle/input/corn-leaves/cornleaves_disease/test/stewart/stewart42.jpg\n",
      "/kaggle/input/corn-leaves/cornleaves_disease/test/stewart/stewart44.jpg\n",
      "/kaggle/input/corn-leaves/cornleaves_disease/test/stewart/stewart49.jpg\n",
      "/kaggle/input/corn-leaves/cornleaves_disease/test/eyespot/eyespot10.jpg\n",
      "/kaggle/input/corn-leaves/cornleaves_disease/test/eyespot/eyespot9.jpg\n",
      "/kaggle/input/corn-leaves/cornleaves_disease/test/eyespot/eyespot3.jpg\n",
      "/kaggle/input/corn-leaves/cornleaves_disease/test/eyespot/eyespot1.jpg\n",
      "/kaggle/input/corn-leaves/cornleaves_disease/test/eyespot/eyespot2.jpg\n",
      "/kaggle/input/corn-leaves/cornleaves_disease/test/eyespot/eyespot4.jpg\n",
      "/kaggle/input/corn-leaves/cornleaves_disease/test/eyespot/eyespot8.jpg\n",
      "/kaggle/input/corn-leaves/cornleaves_disease/test/eyespot/eyespot5.jpg\n",
      "/kaggle/input/corn-leaves/cornleaves_disease/test/eyespot/eyespot7.jpg\n",
      "/kaggle/input/corn-leaves/cornleaves_disease/test/eyespot/eyespot6.jpg\n",
      "/kaggle/input/corn-leaves/cornleaves_disease/test/healthy/healthy3.jpg\n",
      "/kaggle/input/corn-leaves/cornleaves_disease/test/healthy/healthy1.jpg\n",
      "/kaggle/input/corn-leaves/cornleaves_disease/test/healthy/healthy7.jpg\n",
      "/kaggle/input/corn-leaves/cornleaves_disease/test/healthy/healthy6.jpg\n",
      "/kaggle/input/corn-leaves/cornleaves_disease/test/healthy/healthy8.jpg\n",
      "/kaggle/input/corn-leaves/cornleaves_disease/test/healthy/healthy5.jpg\n",
      "/kaggle/input/corn-leaves/cornleaves_disease/test/healthy/healthy4.jpg\n",
      "/kaggle/input/corn-leaves/cornleaves_disease/test/healthy/healthy2.jpg\n",
      "/kaggle/input/corn-leaves/cornleaves_disease/test/healthy/healthy10.jpg\n",
      "/kaggle/input/corn-leaves/cornleaves_disease/test/healthy/healthy9.jpg\n",
      "/kaggle/input/corn-leaves/cornleaves_disease/test/goss/goss1.jpg\n",
      "/kaggle/input/corn-leaves/cornleaves_disease/test/goss/goss2.jpg\n",
      "/kaggle/input/corn-leaves/cornleaves_disease/test/goss/goss5.jpg\n",
      "/kaggle/input/corn-leaves/cornleaves_disease/test/goss/goss6.jpg\n",
      "/kaggle/input/corn-leaves/cornleaves_disease/test/goss/goss10.jpg\n",
      "/kaggle/input/corn-leaves/cornleaves_disease/test/goss/goss7.jpg\n",
      "/kaggle/input/corn-leaves/cornleaves_disease/test/goss/goss3.jpg\n",
      "/kaggle/input/corn-leaves/cornleaves_disease/test/goss/goss4.jpg\n",
      "/kaggle/input/corn-leaves/cornleaves_disease/test/goss/goss9.jpg\n",
      "/kaggle/input/corn-leaves/cornleaves_disease/test/goss/goss8.jpg\n",
      "/kaggle/input/corn-leaves/cornleaves_disease/test/physoderma/physoderma7.jpg\n",
      "/kaggle/input/corn-leaves/cornleaves_disease/test/physoderma/physoderma6.jpg\n",
      "/kaggle/input/corn-leaves/cornleaves_disease/test/physoderma/physoderma10.jpg\n",
      "/kaggle/input/corn-leaves/cornleaves_disease/test/physoderma/physoderma3.jpg\n",
      "/kaggle/input/corn-leaves/cornleaves_disease/test/physoderma/physoderma4.jpg\n",
      "/kaggle/input/corn-leaves/cornleaves_disease/test/physoderma/physoderma1.jpg\n",
      "/kaggle/input/corn-leaves/cornleaves_disease/test/physoderma/physoderma8.jpg\n",
      "/kaggle/input/corn-leaves/cornleaves_disease/test/physoderma/physoderma9.jpg\n",
      "/kaggle/input/corn-leaves/cornleaves_disease/test/physoderma/physoderma2.jpg\n",
      "/kaggle/input/corn-leaves/cornleaves_disease/test/physoderma/physoderma5.jpg\n",
      "/kaggle/input/corn-leaves/cornleaves_disease/train/stewart/stewart35.jpg\n",
      "/kaggle/input/corn-leaves/cornleaves_disease/train/stewart/stewart39.jpg\n",
      "/kaggle/input/corn-leaves/cornleaves_disease/train/stewart/stewart34.jpg\n",
      "/kaggle/input/corn-leaves/cornleaves_disease/train/stewart/stewart14.jpg\n",
      "/kaggle/input/corn-leaves/cornleaves_disease/train/stewart/stewart27.jpg\n",
      "/kaggle/input/corn-leaves/cornleaves_disease/train/stewart/stewart10.jpg\n",
      "/kaggle/input/corn-leaves/cornleaves_disease/train/stewart/stewart17.jpg\n",
      "/kaggle/input/corn-leaves/cornleaves_disease/train/stewart/stewart36.jpg\n",
      "/kaggle/input/corn-leaves/cornleaves_disease/train/stewart/stewart24.jpg\n",
      "/kaggle/input/corn-leaves/cornleaves_disease/train/stewart/stewart15.jpg\n",
      "/kaggle/input/corn-leaves/cornleaves_disease/train/stewart/stewart5.jpg\n",
      "/kaggle/input/corn-leaves/cornleaves_disease/train/stewart/stewart18.jpg\n",
      "/kaggle/input/corn-leaves/cornleaves_disease/train/stewart/stewart38.jpg\n",
      "/kaggle/input/corn-leaves/cornleaves_disease/train/stewart/stewart6.jpg\n",
      "/kaggle/input/corn-leaves/cornleaves_disease/train/stewart/stewart16.jpg\n",
      "/kaggle/input/corn-leaves/cornleaves_disease/train/stewart/stewart40.jpg\n",
      "/kaggle/input/corn-leaves/cornleaves_disease/train/stewart/stewart28.jpg\n",
      "/kaggle/input/corn-leaves/cornleaves_disease/train/stewart/stewart19.jpg\n",
      "/kaggle/input/corn-leaves/cornleaves_disease/train/stewart/stewart33.jpg\n",
      "/kaggle/input/corn-leaves/cornleaves_disease/train/stewart/stewart11.jpg\n",
      "/kaggle/input/corn-leaves/cornleaves_disease/train/stewart/stewart20.jpg\n",
      "/kaggle/input/corn-leaves/cornleaves_disease/train/stewart/stewart3.jpg\n",
      "/kaggle/input/corn-leaves/cornleaves_disease/train/stewart/stewart4.jpg\n",
      "/kaggle/input/corn-leaves/cornleaves_disease/train/stewart/stewart37.jpg\n",
      "/kaggle/input/corn-leaves/cornleaves_disease/train/stewart/stewart1.jpg\n",
      "/kaggle/input/corn-leaves/cornleaves_disease/train/stewart/stewart25.jpg\n",
      "/kaggle/input/corn-leaves/cornleaves_disease/train/stewart/stewart9.jpg\n",
      "/kaggle/input/corn-leaves/cornleaves_disease/train/stewart/stewart32.jpg\n",
      "/kaggle/input/corn-leaves/cornleaves_disease/train/stewart/stewart13.jpg\n",
      "/kaggle/input/corn-leaves/cornleaves_disease/train/stewart/stewart29.jpg\n",
      "/kaggle/input/corn-leaves/cornleaves_disease/train/stewart/stewart12.jpg\n",
      "/kaggle/input/corn-leaves/cornleaves_disease/train/stewart/stewart31.jpg\n",
      "/kaggle/input/corn-leaves/cornleaves_disease/train/stewart/stewart2.jpg\n",
      "/kaggle/input/corn-leaves/cornleaves_disease/train/stewart/stewart21.jpg\n",
      "/kaggle/input/corn-leaves/cornleaves_disease/train/stewart/stewart7.jpg\n",
      "/kaggle/input/corn-leaves/cornleaves_disease/train/stewart/stewart23.jpg\n",
      "/kaggle/input/corn-leaves/cornleaves_disease/train/stewart/stewart26.jpg\n",
      "/kaggle/input/corn-leaves/cornleaves_disease/train/stewart/stewart30.jpg\n",
      "/kaggle/input/corn-leaves/cornleaves_disease/train/stewart/stewart8.jpg\n",
      "/kaggle/input/corn-leaves/cornleaves_disease/train/stewart/stewart22.jpg\n",
      "/kaggle/input/corn-leaves/cornleaves_disease/train/eyespot/eyespot38.jpg\n",
      "/kaggle/input/corn-leaves/cornleaves_disease/train/eyespot/eyespot15.jpg\n",
      "/kaggle/input/corn-leaves/cornleaves_disease/train/eyespot/eyespot36.jpg\n",
      "/kaggle/input/corn-leaves/cornleaves_disease/train/eyespot/eyespot23.jpg\n",
      "/kaggle/input/corn-leaves/cornleaves_disease/train/eyespot/eyespot34.jpg\n",
      "/kaggle/input/corn-leaves/cornleaves_disease/train/eyespot/eyespot28.jpg\n",
      "/kaggle/input/corn-leaves/cornleaves_disease/train/eyespot/eyespot10.jpg\n",
      "/kaggle/input/corn-leaves/cornleaves_disease/train/eyespot/eyespot32.jpg\n",
      "/kaggle/input/corn-leaves/cornleaves_disease/train/eyespot/eyespot40.jpg\n",
      "/kaggle/input/corn-leaves/cornleaves_disease/train/eyespot/eyespot26.jpg\n",
      "/kaggle/input/corn-leaves/cornleaves_disease/train/eyespot/eyespot9.jpg\n",
      "/kaggle/input/corn-leaves/cornleaves_disease/train/eyespot/eyespot3.jpg\n",
      "/kaggle/input/corn-leaves/cornleaves_disease/train/eyespot/eyespot12.jpg\n",
      "/kaggle/input/corn-leaves/cornleaves_disease/train/eyespot/eyespot27.jpg\n",
      "/kaggle/input/corn-leaves/cornleaves_disease/train/eyespot/eyespot17.jpg\n",
      "/kaggle/input/corn-leaves/cornleaves_disease/train/eyespot/eyespot14.jpg\n",
      "/kaggle/input/corn-leaves/cornleaves_disease/train/eyespot/eyespot1.jpg\n",
      "/kaggle/input/corn-leaves/cornleaves_disease/train/eyespot/eyespot18.jpg\n",
      "/kaggle/input/corn-leaves/cornleaves_disease/train/eyespot/eyespot2.jpg\n",
      "/kaggle/input/corn-leaves/cornleaves_disease/train/eyespot/eyespot35.jpg\n",
      "/kaggle/input/corn-leaves/cornleaves_disease/train/eyespot/eyespot31.jpg\n",
      "/kaggle/input/corn-leaves/cornleaves_disease/train/eyespot/eyespot22.jpg\n",
      "/kaggle/input/corn-leaves/cornleaves_disease/train/eyespot/eyespot29.jpg\n",
      "/kaggle/input/corn-leaves/cornleaves_disease/train/eyespot/eyespot4.jpg\n",
      "/kaggle/input/corn-leaves/cornleaves_disease/train/eyespot/eyespot8.jpg\n",
      "/kaggle/input/corn-leaves/cornleaves_disease/train/eyespot/eyespot19.jpg\n",
      "/kaggle/input/corn-leaves/cornleaves_disease/train/eyespot/eyespot33.jpg\n",
      "/kaggle/input/corn-leaves/cornleaves_disease/train/eyespot/eyespot16.jpg\n",
      "/kaggle/input/corn-leaves/cornleaves_disease/train/eyespot/eyespot30.jpg\n",
      "/kaggle/input/corn-leaves/cornleaves_disease/train/eyespot/eyespot5.jpg\n",
      "/kaggle/input/corn-leaves/cornleaves_disease/train/eyespot/eyespot21.jpg\n",
      "/kaggle/input/corn-leaves/cornleaves_disease/train/eyespot/eyespot7.jpg\n",
      "/kaggle/input/corn-leaves/cornleaves_disease/train/eyespot/eyespot6.jpg\n",
      "/kaggle/input/corn-leaves/cornleaves_disease/train/eyespot/eyespot37.jpg\n",
      "/kaggle/input/corn-leaves/cornleaves_disease/train/eyespot/eyespot24.jpg\n",
      "/kaggle/input/corn-leaves/cornleaves_disease/train/eyespot/eyespot25.jpg\n",
      "/kaggle/input/corn-leaves/cornleaves_disease/train/eyespot/eyespot11.jpg\n",
      "/kaggle/input/corn-leaves/cornleaves_disease/train/eyespot/eyespot13.jpg\n",
      "/kaggle/input/corn-leaves/cornleaves_disease/train/eyespot/eyespot39.jpg\n",
      "/kaggle/input/corn-leaves/cornleaves_disease/train/eyespot/eyespot20.jpg\n",
      "/kaggle/input/corn-leaves/cornleaves_disease/train/healthy/healthy16.jpg\n",
      "/kaggle/input/corn-leaves/cornleaves_disease/train/healthy/healthy12.jpg\n",
      "/kaggle/input/corn-leaves/cornleaves_disease/train/healthy/healthy22.jpg\n",
      "/kaggle/input/corn-leaves/cornleaves_disease/train/healthy/healthy32.jpg\n",
      "/kaggle/input/corn-leaves/cornleaves_disease/train/healthy/healthy40.jpg\n",
      "/kaggle/input/corn-leaves/cornleaves_disease/train/healthy/healthy30.jpg\n",
      "/kaggle/input/corn-leaves/cornleaves_disease/train/healthy/healthy3.jpg\n",
      "/kaggle/input/corn-leaves/cornleaves_disease/train/healthy/healthy1.jpg\n",
      "/kaggle/input/corn-leaves/cornleaves_disease/train/healthy/healthy7.jpg\n",
      "/kaggle/input/corn-leaves/cornleaves_disease/train/healthy/healthy17.jpg\n",
      "/kaggle/input/corn-leaves/cornleaves_disease/train/healthy/healthy27.jpg\n",
      "/kaggle/input/corn-leaves/cornleaves_disease/train/healthy/healthy6.jpg\n",
      "/kaggle/input/corn-leaves/cornleaves_disease/train/healthy/healthy38.jpg\n",
      "/kaggle/input/corn-leaves/cornleaves_disease/train/healthy/healthy23.jpg\n",
      "/kaggle/input/corn-leaves/cornleaves_disease/train/healthy/healthy8.jpg\n",
      "/kaggle/input/corn-leaves/cornleaves_disease/train/healthy/healthy39.jpg\n",
      "/kaggle/input/corn-leaves/cornleaves_disease/train/healthy/healthy28.jpg\n",
      "/kaggle/input/corn-leaves/cornleaves_disease/train/healthy/healthy5.jpg\n",
      "/kaggle/input/corn-leaves/cornleaves_disease/train/healthy/healthy34.jpg\n",
      "/kaggle/input/corn-leaves/cornleaves_disease/train/healthy/healthy4.jpg\n",
      "/kaggle/input/corn-leaves/cornleaves_disease/train/healthy/healthy14.jpg\n",
      "/kaggle/input/corn-leaves/cornleaves_disease/train/healthy/healthy36.jpg\n",
      "/kaggle/input/corn-leaves/cornleaves_disease/train/healthy/healthy11.jpg\n",
      "/kaggle/input/corn-leaves/cornleaves_disease/train/healthy/healthy21.jpg\n",
      "/kaggle/input/corn-leaves/cornleaves_disease/train/healthy/healthy25.jpg\n",
      "/kaggle/input/corn-leaves/cornleaves_disease/train/healthy/healthy35.jpg\n",
      "/kaggle/input/corn-leaves/cornleaves_disease/train/healthy/healthy2.jpg\n",
      "/kaggle/input/corn-leaves/cornleaves_disease/train/healthy/healthy19.jpg\n",
      "/kaggle/input/corn-leaves/cornleaves_disease/train/healthy/healthy26.jpg\n",
      "/kaggle/input/corn-leaves/cornleaves_disease/train/healthy/healthy15.jpg\n",
      "/kaggle/input/corn-leaves/cornleaves_disease/train/healthy/healthy10.jpg\n",
      "/kaggle/input/corn-leaves/cornleaves_disease/train/healthy/healthy9.jpg\n",
      "/kaggle/input/corn-leaves/cornleaves_disease/train/healthy/healthy31.jpg\n",
      "/kaggle/input/corn-leaves/cornleaves_disease/train/healthy/healthy37.jpg\n",
      "/kaggle/input/corn-leaves/cornleaves_disease/train/healthy/healthy29.jpg\n",
      "/kaggle/input/corn-leaves/cornleaves_disease/train/healthy/healthy33.jpg\n",
      "/kaggle/input/corn-leaves/cornleaves_disease/train/healthy/healthy18.jpg\n",
      "/kaggle/input/corn-leaves/cornleaves_disease/train/healthy/healthy20.jpg\n",
      "/kaggle/input/corn-leaves/cornleaves_disease/train/healthy/healthy13.jpg\n",
      "/kaggle/input/corn-leaves/cornleaves_disease/train/healthy/healthy24.jpg\n",
      "/kaggle/input/corn-leaves/cornleaves_disease/train/goss/goss34.jpg\n",
      "/kaggle/input/corn-leaves/cornleaves_disease/train/goss/goss23.jpg\n",
      "/kaggle/input/corn-leaves/cornleaves_disease/train/goss/goss1.jpg\n",
      "/kaggle/input/corn-leaves/cornleaves_disease/train/goss/goss11.jpg\n",
      "/kaggle/input/corn-leaves/cornleaves_disease/train/goss/goss20.jpg\n",
      "/kaggle/input/corn-leaves/cornleaves_disease/train/goss/goss31.jpg\n",
      "/kaggle/input/corn-leaves/cornleaves_disease/train/goss/goss16.jpg\n",
      "/kaggle/input/corn-leaves/cornleaves_disease/train/goss/goss2.jpg\n",
      "/kaggle/input/corn-leaves/cornleaves_disease/train/goss/goss5.jpg\n",
      "/kaggle/input/corn-leaves/cornleaves_disease/train/goss/goss30.jpg\n",
      "/kaggle/input/corn-leaves/cornleaves_disease/train/goss/goss6.jpg\n",
      "/kaggle/input/corn-leaves/cornleaves_disease/train/goss/goss37.jpg\n",
      "/kaggle/input/corn-leaves/cornleaves_disease/train/goss/goss40.jpg\n",
      "/kaggle/input/corn-leaves/cornleaves_disease/train/goss/goss19.jpg\n",
      "/kaggle/input/corn-leaves/cornleaves_disease/train/goss/goss38.jpg\n",
      "/kaggle/input/corn-leaves/cornleaves_disease/train/goss/goss10.jpg\n",
      "/kaggle/input/corn-leaves/cornleaves_disease/train/goss/goss7.jpg\n",
      "/kaggle/input/corn-leaves/cornleaves_disease/train/goss/goss21.jpg\n",
      "/kaggle/input/corn-leaves/cornleaves_disease/train/goss/goss29.jpg\n",
      "/kaggle/input/corn-leaves/cornleaves_disease/train/goss/goss3.jpg\n",
      "/kaggle/input/corn-leaves/cornleaves_disease/train/goss/goss24.jpg\n",
      "/kaggle/input/corn-leaves/cornleaves_disease/train/goss/goss12.jpg\n",
      "/kaggle/input/corn-leaves/cornleaves_disease/train/goss/goss36.jpg\n",
      "/kaggle/input/corn-leaves/cornleaves_disease/train/goss/goss25.jpg\n",
      "/kaggle/input/corn-leaves/cornleaves_disease/train/goss/goss13.jpg\n",
      "/kaggle/input/corn-leaves/cornleaves_disease/train/goss/goss33.jpg\n",
      "/kaggle/input/corn-leaves/cornleaves_disease/train/goss/goss15.jpg\n",
      "/kaggle/input/corn-leaves/cornleaves_disease/train/goss/goss22.jpg\n",
      "/kaggle/input/corn-leaves/cornleaves_disease/train/goss/goss4.jpg\n",
      "/kaggle/input/corn-leaves/cornleaves_disease/train/goss/goss9.jpg\n",
      "/kaggle/input/corn-leaves/cornleaves_disease/train/goss/goss14.jpg\n",
      "/kaggle/input/corn-leaves/cornleaves_disease/train/goss/goss32.jpg\n",
      "/kaggle/input/corn-leaves/cornleaves_disease/train/goss/goss18.jpg\n",
      "/kaggle/input/corn-leaves/cornleaves_disease/train/goss/goss17.jpg\n",
      "/kaggle/input/corn-leaves/cornleaves_disease/train/goss/goss39.jpg\n",
      "/kaggle/input/corn-leaves/cornleaves_disease/train/goss/goss26.jpg\n",
      "/kaggle/input/corn-leaves/cornleaves_disease/train/goss/goss27.jpg\n",
      "/kaggle/input/corn-leaves/cornleaves_disease/train/goss/goss28.jpg\n",
      "/kaggle/input/corn-leaves/cornleaves_disease/train/goss/goss35.jpg\n",
      "/kaggle/input/corn-leaves/cornleaves_disease/train/goss/goss8.jpg\n",
      "/kaggle/input/corn-leaves/cornleaves_disease/train/physoderma/physoderma13.jpg\n",
      "/kaggle/input/corn-leaves/cornleaves_disease/train/physoderma/physoderma37.jpg\n",
      "/kaggle/input/corn-leaves/cornleaves_disease/train/physoderma/physoderma7.jpg\n",
      "/kaggle/input/corn-leaves/cornleaves_disease/train/physoderma/physoderma32.jpg\n",
      "/kaggle/input/corn-leaves/cornleaves_disease/train/physoderma/physoderma19.jpg\n",
      "/kaggle/input/corn-leaves/cornleaves_disease/train/physoderma/physoderma16.jpg\n",
      "/kaggle/input/corn-leaves/cornleaves_disease/train/physoderma/physoderma18.jpg\n",
      "/kaggle/input/corn-leaves/cornleaves_disease/train/physoderma/physoderma12.jpg\n",
      "/kaggle/input/corn-leaves/cornleaves_disease/train/physoderma/physoderma26.jpg\n",
      "/kaggle/input/corn-leaves/cornleaves_disease/train/physoderma/physoderma6.jpg\n",
      "/kaggle/input/corn-leaves/cornleaves_disease/train/physoderma/physoderma21.jpg\n",
      "/kaggle/input/corn-leaves/cornleaves_disease/train/physoderma/physoderma31.jpg\n",
      "/kaggle/input/corn-leaves/cornleaves_disease/train/physoderma/physoderma27.jpg\n",
      "/kaggle/input/corn-leaves/cornleaves_disease/train/physoderma/physoderma23.jpg\n",
      "/kaggle/input/corn-leaves/cornleaves_disease/train/physoderma/physoderma10.jpg\n",
      "/kaggle/input/corn-leaves/cornleaves_disease/train/physoderma/physoderma30.jpg\n",
      "/kaggle/input/corn-leaves/cornleaves_disease/train/physoderma/physoderma35.jpg\n",
      "/kaggle/input/corn-leaves/cornleaves_disease/train/physoderma/physoderma38.jpg\n",
      "/kaggle/input/corn-leaves/cornleaves_disease/train/physoderma/physoderma3.jpg\n",
      "/kaggle/input/corn-leaves/cornleaves_disease/train/physoderma/physoderma40.jpg\n",
      "/kaggle/input/corn-leaves/cornleaves_disease/train/physoderma/physoderma4.jpg\n",
      "/kaggle/input/corn-leaves/cornleaves_disease/train/physoderma/physoderma34.jpg\n",
      "/kaggle/input/corn-leaves/cornleaves_disease/train/physoderma/physoderma11.jpg\n",
      "/kaggle/input/corn-leaves/cornleaves_disease/train/physoderma/physoderma17.jpg\n",
      "/kaggle/input/corn-leaves/cornleaves_disease/train/physoderma/physoderma33.jpg\n",
      "/kaggle/input/corn-leaves/cornleaves_disease/train/physoderma/physoderma1.jpg\n",
      "/kaggle/input/corn-leaves/cornleaves_disease/train/physoderma/physoderma8.jpg\n",
      "/kaggle/input/corn-leaves/cornleaves_disease/train/physoderma/physoderma9.jpg\n",
      "/kaggle/input/corn-leaves/cornleaves_disease/train/physoderma/physoderma20.jpg\n",
      "/kaggle/input/corn-leaves/cornleaves_disease/train/physoderma/physoderma24.jpg\n",
      "/kaggle/input/corn-leaves/cornleaves_disease/train/physoderma/physoderma2.jpg\n",
      "/kaggle/input/corn-leaves/cornleaves_disease/train/physoderma/physoderma25.jpg\n",
      "/kaggle/input/corn-leaves/cornleaves_disease/train/physoderma/physoderma14.jpg\n",
      "/kaggle/input/corn-leaves/cornleaves_disease/train/physoderma/physoderma28.jpg\n",
      "/kaggle/input/corn-leaves/cornleaves_disease/train/physoderma/physoderma39.jpg\n",
      "/kaggle/input/corn-leaves/cornleaves_disease/train/physoderma/physoderma22.jpg\n",
      "/kaggle/input/corn-leaves/cornleaves_disease/train/physoderma/physoderma15.jpg\n",
      "/kaggle/input/corn-leaves/cornleaves_disease/train/physoderma/physoderma29.jpg\n",
      "/kaggle/input/corn-leaves/cornleaves_disease/train/physoderma/physoderma36.jpg\n",
      "/kaggle/input/corn-leaves/cornleaves_disease/train/physoderma/physoderma5.jpg\n"
     ]
    }
   ],
   "source": [
    "#loading data from the directory into my notebook\n",
    "import os\n",
    "for dirname, _, filenames in os.walk('/kaggle/input'):\n",
    "    for filename in filenames:\n",
    "        path = os.path.join(dirname, filename)\n",
    "        print(path)"
   ]
  },
  {
   "cell_type": "markdown",
   "metadata": {},
   "source": [
    "## Setting Corn images data directories"
   ]
  },
  {
   "cell_type": "code",
   "execution_count": 3,
   "metadata": {
    "execution": {
     "iopub.execute_input": "2022-10-08T16:28:48.983082Z",
     "iopub.status.busy": "2022-10-08T16:28:48.982485Z",
     "iopub.status.idle": "2022-10-08T16:28:48.989554Z",
     "shell.execute_reply": "2022-10-08T16:28:48.988607Z",
     "shell.execute_reply.started": "2022-10-08T16:28:48.983044Z"
    }
   },
   "outputs": [],
   "source": [
    "#Navigate to the data directory\n",
    "data_dir = '/kaggle/input/corn-leaves/cornleaves_disease'\n",
    "\n",
    "image_dir = {\n",
    "                'train' : data_dir + '/train',\n",
    "                'test' : data_dir + '/test'\n",
    "            }"
   ]
  },
  {
   "cell_type": "markdown",
   "metadata": {},
   "source": [
    "## Transforming and loading the Images data"
   ]
  },
  {
   "cell_type": "code",
   "execution_count": 4,
   "metadata": {
    "execution": {
     "iopub.execute_input": "2022-10-08T16:28:48.993078Z",
     "iopub.status.busy": "2022-10-08T16:28:48.992599Z",
     "iopub.status.idle": "2022-10-08T16:28:49.014608Z",
     "shell.execute_reply": "2022-10-08T16:28:49.013778Z",
     "shell.execute_reply.started": "2022-10-08T16:28:48.993044Z"
    }
   },
   "outputs": [],
   "source": [
    "# implement random scaling, cropping and flipping transformations on the training and test set in a dictionary\n",
    "image_transforms = {\n",
    "                    'train' : transforms.Compose([\n",
    "                                     transforms.RandomRotation(30),\n",
    "                                     transforms.Resize(224),\n",
    "                                     transforms.CenterCrop(224),\n",
    "                                     transforms.RandomResizedCrop(224),\n",
    "                                     transforms.RandomHorizontalFlip(),\n",
    "                                     transforms.ToTensor(),\n",
    "                                     transforms.Normalize([0.485, 0.456, 0.406],\n",
    "                                                        [0.229, 0.224, 0.225])\n",
    "                                      ]),\n",
    "\n",
    "                    'test' :  transforms.Compose([transforms.Resize(224),\n",
    "                                       transforms.CenterCrop(224),\n",
    "                                       transforms.ToTensor(),\n",
    "                                       transforms.Normalize([0.485, 0.456, 0.406], \n",
    "                                                            std=[0.229, 0.224, 0.225])])\n",
    "\n",
    "                    }\n",
    "\n",
    "#Load the datasets with ImageFolder in a dictionary\n",
    "image_dataset = {\n",
    "                    'train' : datasets.ImageFolder(image_dir['train'], transform=image_transforms['train']),\n",
    "                    'test' : datasets.ImageFolder(image_dir['test'], transform=image_transforms['test'])\n",
    "                }\n",
    "\n",
    "#define the dataloaders using the image datasets and the transforms in a dictionary\n",
    "image_loader = {\n",
    "                'train' : torch.utils.data.DataLoader(image_dataset['train'], batch_size=32, shuffle=True),\n",
    "                'test' : torch.utils.data.DataLoader(image_dataset['test'], batch_size=32)\n",
    "                }"
   ]
  },
  {
   "cell_type": "code",
   "execution_count": 5,
   "metadata": {
    "execution": {
     "iopub.execute_input": "2022-10-08T16:28:49.015950Z",
     "iopub.status.busy": "2022-10-08T16:28:49.015664Z",
     "iopub.status.idle": "2022-10-08T16:28:49.377937Z",
     "shell.execute_reply": "2022-10-08T16:28:49.376893Z",
     "shell.execute_reply.started": "2022-10-08T16:28:49.015925Z"
    }
   },
   "outputs": [
    {
     "name": "stdout",
     "output_type": "stream",
     "text": [
      "torch.Size([32])\n"
     ]
    },
    {
     "data": {
      "text/plain": [
       "tensor([[-0.0629, -0.7822, -1.2274,  ..., -0.1657, -0.1314, -0.2513],\n",
       "        [ 0.3309, -0.4911, -1.0562,  ..., -0.1143, -0.0972, -0.0287],\n",
       "        [ 0.9303, -0.0116, -0.8164,  ..., -0.1486, -0.0287,  0.3652],\n",
       "        ...,\n",
       "        [-1.1418, -1.1589, -1.1589,  ..., -2.1179, -2.1179, -2.1179],\n",
       "        [-1.1418, -1.1589, -1.1589,  ..., -2.1179, -2.1179, -2.1179],\n",
       "        [-1.1418, -1.1589, -1.1589,  ..., -2.1179, -2.1179, -2.1179]])"
      ]
     },
     "execution_count": 5,
     "metadata": {},
     "output_type": "execute_result"
    }
   ],
   "source": [
    "#confirm the shape\n",
    "x, y = next(iter(image_loader['train']))\n",
    "\n",
    "print(y.shape)\n",
    "#check the input shape\n",
    "x[0][0]"
   ]
  },
  {
   "cell_type": "code",
   "execution_count": 6,
   "metadata": {
    "execution": {
     "iopub.execute_input": "2022-10-08T16:28:49.380328Z",
     "iopub.status.busy": "2022-10-08T16:28:49.379434Z",
     "iopub.status.idle": "2022-10-08T16:28:52.227407Z",
     "shell.execute_reply": "2022-10-08T16:28:52.226478Z",
     "shell.execute_reply.started": "2022-10-08T16:28:49.380286Z"
    }
   },
   "outputs": [
    {
     "name": "stderr",
     "output_type": "stream",
     "text": [
      "Downloading: \"https://download.pytorch.org/models/densenet121-a639ec97.pth\" to /root/.cache/torch/hub/checkpoints/densenet121-a639ec97.pth\n"
     ]
    },
    {
     "data": {
      "application/vnd.jupyter.widget-view+json": {
       "model_id": "a6db390d596a49acb46d816626dbd25b",
       "version_major": 2,
       "version_minor": 0
      },
      "text/plain": [
       "  0%|          | 0.00/30.8M [00:00<?, ?B/s]"
      ]
     },
     "metadata": {},
     "output_type": "display_data"
    }
   ],
   "source": [
    "# Choosing and checking the pretrained model architecture\n",
    "model = models.densenet121(pretrained=True)\n",
    "#model"
   ]
  },
  {
   "cell_type": "code",
   "execution_count": 7,
   "metadata": {
    "execution": {
     "iopub.execute_input": "2022-10-08T16:28:52.229283Z",
     "iopub.status.busy": "2022-10-08T16:28:52.228918Z",
     "iopub.status.idle": "2022-10-08T16:28:52.295238Z",
     "shell.execute_reply": "2022-10-08T16:28:52.294252Z",
     "shell.execute_reply.started": "2022-10-08T16:28:52.229247Z"
    }
   },
   "outputs": [],
   "source": [
    "# setting computing device\n",
    "device = torch.device(\"cuda:0\" if torch.cuda.is_available() else \"cpu\")\n"
   ]
  },
  {
   "cell_type": "markdown",
   "metadata": {},
   "source": [
    "## Building the model"
   ]
  },
  {
   "cell_type": "code",
   "execution_count": 8,
   "metadata": {
    "execution": {
     "iopub.execute_input": "2022-10-08T16:28:52.297424Z",
     "iopub.status.busy": "2022-10-08T16:28:52.296829Z",
     "iopub.status.idle": "2022-10-08T16:28:52.316927Z",
     "shell.execute_reply": "2022-10-08T16:28:52.316084Z",
     "shell.execute_reply.started": "2022-10-08T16:28:52.297386Z"
    }
   },
   "outputs": [],
   "source": [
    "# Define the model\n",
    "    \n",
    "def my_model(chosen_model):\n",
    "    \"\"\"\n",
    "    defines a new model by modifying the chosen model classifier and defining \n",
    "    new model parameters, uses dropout method to prevent overfitting and get\n",
    "    the model ready for classification\n",
    "    \n",
    "    parameters:\n",
    "        chosen_model - chosen pretrained model to build on \n",
    "        \n",
    "    Returns:\n",
    "        model -  new model that is built from the pretrained model\n",
    "        such that it is suitable for corn leaves disease multiclass classification\n",
    "        task at hand\n",
    "    \n",
    "    \"\"\"\n",
    "    model = chosen_model\n",
    "    #loop through the model parameters\n",
    "    for param in model.parameters():\n",
    "        #freeze parameters such that backpropagation do not happen through them\n",
    "        param.requires_grad = False\n",
    "        #Define model hyperparameters\n",
    "        input = 1024\n",
    "        hidden = 256\n",
    "        output_size = 5\n",
    "        pr_dropout = 0.2\n",
    "        epochs = 5\n",
    "        learnrate = 0.003\n",
    "        #Move the model to an available computing device\n",
    "        model.to(device)\n",
    "        #define the new model classifier\n",
    "        modelSequence = nn.Sequential(OrderedDict([\n",
    "            \n",
    "            ('fc1', nn.Linear(input, hidden)),\n",
    "            ('relu', nn.ReLU()),\n",
    "            ('dropout', nn.Dropout(pr_dropout)), #randomly drop input units to reduce overfitting using dropout\n",
    "            ('fc2', nn.Linear(hidden, output_size)),\n",
    "            ('output', nn.LogSoftmax(dim=1))\n",
    "            \n",
    "        ]))\n",
    "        \n",
    "    #Overrite the pretrained model classifier with the defined classifier\n",
    "    model.classifier = modelSequence\n",
    "    #Move the newly defined model to the available computing device\n",
    "    model.to(device)\n",
    "    return model\n",
    "    \n"
   ]
  },
  {
   "cell_type": "code",
   "execution_count": 9,
   "metadata": {
    "execution": {
     "iopub.execute_input": "2022-10-08T16:28:52.319662Z",
     "iopub.status.busy": "2022-10-08T16:28:52.318447Z",
     "iopub.status.idle": "2022-10-08T16:28:57.575308Z",
     "shell.execute_reply": "2022-10-08T16:28:57.574281Z",
     "shell.execute_reply.started": "2022-10-08T16:28:52.319625Z"
    }
   },
   "outputs": [],
   "source": [
    "#Choose model criterion and optimizer and put them in a dictionary\n",
    "model = my_model(models.densenet121(pretrained=True))\n",
    "\n",
    "hyper = {\n",
    "            # set appropriate loss criterion for log softmax model output\n",
    "            'criterion' : nn.NLLLoss().to(device),\n",
    "            # Only trains the classifier parameters, feature parameters are frozen\n",
    "            'optimizer' : optim.Adam(model.classifier.parameters(), lr=0.003)     \n",
    "        }"
   ]
  },
  {
   "cell_type": "markdown",
   "metadata": {},
   "source": [
    "## Training model"
   ]
  },
  {
   "cell_type": "code",
   "execution_count": 10,
   "metadata": {
    "execution": {
     "iopub.execute_input": "2022-10-08T16:28:57.579984Z",
     "iopub.status.busy": "2022-10-08T16:28:57.579672Z",
     "iopub.status.idle": "2022-10-08T16:28:57.588197Z",
     "shell.execute_reply": "2022-10-08T16:28:57.586844Z",
     "shell.execute_reply.started": "2022-10-08T16:28:57.579957Z"
    }
   },
   "outputs": [],
   "source": [
    "# Writing a function for the training loop\n",
    "def learning(model, loader, epochs, print_every, criterion = hyper['criterion'], \n",
    "    optimizer = hyper['optimizer'], device='cuda'):\n",
    "    \"\"\"\n",
    "    implements the training loop comprises of feed forward, loss calculation\n",
    "    and gradient descents through backpropagation and repeatedly nudge the weight \n",
    "    and bias for improved network learning\n",
    "    \n",
    "    parameters:\n",
    "        model - new model that is built from the pretrained model\n",
    "            such that it is suitable for corn leaves disease multiclass classification\n",
    "            task at hand\n",
    "            \n",
    "        loader - image loader holding both the images and labels\n",
    "        \n",
    "        print_every - Average number of epoch values to be printed\n",
    "        \n",
    "        criterion - carefully chosen loss criterion \n",
    "        \n",
    "    prints:\n",
    "        Epoch - value of the present epoch\n",
    "        Loss - average loss at every epoch per print_every times\n",
    "        \n",
    "    \"\"\"\n",
    "    #set initial values for steps and running loss\n",
    "    steps =0\n",
    "    running_loss = 0\n",
    "    model.to(device)\n",
    "    \n",
    "    for epoch in range(epochs):\n",
    "        \n",
    "       \n",
    "        #loop through the image loader\n",
    "        for images, labels in loader:\n",
    "            steps += 1 #update the step value\n",
    "            #Move the running image and label to the available device \n",
    "            images, labels = images.to(device), labels.to(device)\n",
    "            \n",
    "            \n",
    "            optimizer.zero_grad()\n",
    "            # feed forward\n",
    "            output = model(images)\n",
    "            #calculates the loss\n",
    "            loss = criterion(output, labels)\n",
    "            #compute the gradient\n",
    "            loss.backward()\n",
    "            # Update the weight\n",
    "            optimizer.step()\n",
    "            \n",
    "            running_loss += loss.item()\n",
    "            #display epoch and running loss every print_every steps\n",
    "            if steps % print_every == 0:\n",
    "                \n",
    "                print(\"Epoch: {}/{}\".format(epoch+1, epochs),\n",
    "                       \"Loss: {:.4f}\".format(running_loss/print_every))\n",
    "                \n",
    "                running_loss = 0\n",
    "                #set back to training mode\n",
    "                model.train()"
   ]
  },
  {
   "cell_type": "code",
   "execution_count": 11,
   "metadata": {
    "execution": {
     "iopub.execute_input": "2022-10-08T16:28:57.590659Z",
     "iopub.status.busy": "2022-10-08T16:28:57.589694Z",
     "iopub.status.idle": "2022-10-08T16:30:27.262809Z",
     "shell.execute_reply": "2022-10-08T16:30:27.261778Z",
     "shell.execute_reply.started": "2022-10-08T16:28:57.590624Z"
    }
   },
   "outputs": [
    {
     "name": "stdout",
     "output_type": "stream",
     "text": [
      "Epoch: 2/60 Loss: 1.5318\n",
      "Epoch: 3/60 Loss: 1.0058\n",
      "Epoch: 5/60 Loss: 0.8218\n",
      "Epoch: 6/60 Loss: 0.7226\n",
      "Epoch: 8/60 Loss: 0.6366\n",
      "Epoch: 9/60 Loss: 0.5610\n",
      "Epoch: 10/60 Loss: 0.5824\n",
      "Epoch: 12/60 Loss: 0.5504\n",
      "Epoch: 13/60 Loss: 0.4376\n",
      "Epoch: 15/60 Loss: 0.4113\n",
      "Epoch: 16/60 Loss: 0.4316\n",
      "Epoch: 18/60 Loss: 0.5059\n",
      "Epoch: 19/60 Loss: 0.4461\n",
      "Epoch: 20/60 Loss: 0.4780\n",
      "Epoch: 22/60 Loss: 0.6085\n",
      "Epoch: 23/60 Loss: 0.5623\n",
      "Epoch: 25/60 Loss: 0.6584\n",
      "Epoch: 26/60 Loss: 0.3655\n",
      "Epoch: 28/60 Loss: 0.5412\n",
      "Epoch: 29/60 Loss: 0.5509\n",
      "Epoch: 30/60 Loss: 0.4368\n",
      "Epoch: 32/60 Loss: 0.4319\n",
      "Epoch: 33/60 Loss: 0.3434\n",
      "Epoch: 35/60 Loss: 0.3287\n",
      "Epoch: 36/60 Loss: 0.4284\n",
      "Epoch: 38/60 Loss: 0.3351\n",
      "Epoch: 39/60 Loss: 0.2997\n",
      "Epoch: 40/60 Loss: 0.3628\n",
      "Epoch: 42/60 Loss: 0.4186\n",
      "Epoch: 43/60 Loss: 0.3643\n",
      "Epoch: 45/60 Loss: 0.3139\n",
      "Epoch: 46/60 Loss: 0.4225\n",
      "Epoch: 48/60 Loss: 0.3155\n",
      "Epoch: 49/60 Loss: 0.3644\n",
      "Epoch: 50/60 Loss: 0.3661\n",
      "Epoch: 52/60 Loss: 0.3209\n",
      "Epoch: 53/60 Loss: 0.3997\n",
      "Epoch: 55/60 Loss: 0.4420\n",
      "Epoch: 56/60 Loss: 0.5095\n",
      "Epoch: 58/60 Loss: 0.4246\n",
      "Epoch: 59/60 Loss: 0.3245\n",
      "Epoch: 60/60 Loss: 0.3514\n"
     ]
    }
   ],
   "source": [
    "\n",
    "learning(model, image_loader['train'], 60, 10, criterion = hyper['criterion'], \n",
    "optimizer = hyper['optimizer'], device='cuda')  "
   ]
  },
  {
   "cell_type": "markdown",
   "metadata": {},
   "source": [
    "## Evaluating model performance and result presentation using confusion matrix"
   ]
  },
  {
   "cell_type": "code",
   "execution_count": 12,
   "metadata": {
    "execution": {
     "iopub.execute_input": "2022-10-08T16:30:27.264789Z",
     "iopub.status.busy": "2022-10-08T16:30:27.264396Z",
     "iopub.status.idle": "2022-10-08T16:30:27.274167Z",
     "shell.execute_reply": "2022-10-08T16:30:27.271973Z",
     "shell.execute_reply.started": "2022-10-08T16:30:27.264750Z"
    }
   },
   "outputs": [],
   "source": [
    "# validation on the test set\n",
    "def test_metrics(testloader = image_loader['test'] ):\n",
    "    \"\"\"\n",
    "    gets the true value and the predicted value in a list container\n",
    "    to be used for the representation of the overall performance of\n",
    "    the model using confusion matrix\n",
    "    \n",
    "    Parameter:\n",
    "        testloader - image_loader containing the test set inputs and \n",
    "        labels for model performance evaluation purpose\n",
    "        \n",
    "    Returns:\n",
    "        y_true - list of True numerically encoded label of the input value\n",
    "        y_pred - list of Predicted numerically encoded label of the input value\n",
    "    \"\"\"\n",
    "    y_true = []\n",
    "    \n",
    "    y_pred = []\n",
    "    \n",
    "    accuracy = 0\n",
    "    #set model to evaluation mode\n",
    "    model.eval()\n",
    "    #turn off gradients\n",
    "    with torch.no_grad():\n",
    "        #validation pass on the test set\n",
    "        for inputs, labels in testloader:\n",
    "            #moving inpts to the appropriate device\n",
    "            inputs, labels = inputs.to(device), labels\n",
    "            #convert labels to numpy array for use outside of torch and appen to y_true\n",
    "            y_true.extend(labels.numpy())\n",
    "            #compute the forward pass\n",
    "            logps = model.forward(inputs)\n",
    "            #take the exponential of the logarithmic output to get the real predicted value\n",
    "            ps = torch.exp(logps)\n",
    "            _, predicted = torch.max(ps, 1)\n",
    "            #return the predicted value to cpu for access outside of cuda\n",
    "            y_pred.extend(predicted.cpu().numpy())\n",
    "            \n",
    "    #set model back to training mode        \n",
    "    model.train()\n",
    "    return y_true, y_pred"
   ]
  },
  {
   "cell_type": "code",
   "execution_count": 13,
   "metadata": {
    "execution": {
     "iopub.execute_input": "2022-10-08T16:30:27.276417Z",
     "iopub.status.busy": "2022-10-08T16:30:27.275872Z",
     "iopub.status.idle": "2022-10-08T16:30:27.764288Z",
     "shell.execute_reply": "2022-10-08T16:30:27.763227Z",
     "shell.execute_reply.started": "2022-10-08T16:30:27.276381Z"
    }
   },
   "outputs": [],
   "source": [
    "y_true, y_pred = test_metrics()\n",
    "#y_true"
   ]
  },
  {
   "cell_type": "code",
   "execution_count": 14,
   "metadata": {
    "execution": {
     "iopub.execute_input": "2022-10-08T16:30:27.766083Z",
     "iopub.status.busy": "2022-10-08T16:30:27.765664Z",
     "iopub.status.idle": "2022-10-08T16:30:27.776182Z",
     "shell.execute_reply": "2022-10-08T16:30:27.774761Z",
     "shell.execute_reply.started": "2022-10-08T16:30:27.766046Z"
    }
   },
   "outputs": [],
   "source": [
    "#calculate the confusion matrix \n",
    "cf_matrix = confusion_matrix(y_true, y_pred)"
   ]
  },
  {
   "cell_type": "code",
   "execution_count": 15,
   "metadata": {
    "execution": {
     "iopub.execute_input": "2022-10-08T16:30:27.778380Z",
     "iopub.status.busy": "2022-10-08T16:30:27.777966Z",
     "iopub.status.idle": "2022-10-08T16:30:27.786686Z",
     "shell.execute_reply": "2022-10-08T16:30:27.785587Z",
     "shell.execute_reply.started": "2022-10-08T16:30:27.778340Z"
    }
   },
   "outputs": [],
   "source": [
    "class_names = ('eyespot', 'goss wilt', 'healthy', 'physoderma Brown Spot', 'stewart bacterial wilt' )"
   ]
  },
  {
   "cell_type": "code",
   "execution_count": 16,
   "metadata": {
    "execution": {
     "iopub.execute_input": "2022-10-08T16:30:27.788693Z",
     "iopub.status.busy": "2022-10-08T16:30:27.788326Z",
     "iopub.status.idle": "2022-10-08T16:30:27.798672Z",
     "shell.execute_reply": "2022-10-08T16:30:27.797746Z",
     "shell.execute_reply.started": "2022-10-08T16:30:27.788657Z"
    }
   },
   "outputs": [],
   "source": [
    "#compute and display the confusion matrix in a dataframe\n",
    "dataframe = pd.DataFrame(cf_matrix, index=class_names, columns=class_names)"
   ]
  },
  {
   "cell_type": "code",
   "execution_count": 17,
   "metadata": {
    "execution": {
     "iopub.execute_input": "2022-10-08T16:30:27.800478Z",
     "iopub.status.busy": "2022-10-08T16:30:27.800106Z",
     "iopub.status.idle": "2022-10-08T16:30:27.822523Z",
     "shell.execute_reply": "2022-10-08T16:30:27.821625Z",
     "shell.execute_reply.started": "2022-10-08T16:30:27.800445Z"
    }
   },
   "outputs": [
    {
     "data": {
      "text/html": [
       "<div>\n",
       "<style scoped>\n",
       "    .dataframe tbody tr th:only-of-type {\n",
       "        vertical-align: middle;\n",
       "    }\n",
       "\n",
       "    .dataframe tbody tr th {\n",
       "        vertical-align: top;\n",
       "    }\n",
       "\n",
       "    .dataframe thead th {\n",
       "        text-align: right;\n",
       "    }\n",
       "</style>\n",
       "<table border=\"1\" class=\"dataframe\">\n",
       "  <thead>\n",
       "    <tr style=\"text-align: right;\">\n",
       "      <th></th>\n",
       "      <th>eyespot</th>\n",
       "      <th>goss wilt</th>\n",
       "      <th>healthy</th>\n",
       "      <th>physoderma Brown Spot</th>\n",
       "      <th>stewart bacterial wilt</th>\n",
       "    </tr>\n",
       "  </thead>\n",
       "  <tbody>\n",
       "    <tr>\n",
       "      <th>eyespot</th>\n",
       "      <td>7</td>\n",
       "      <td>2</td>\n",
       "      <td>0</td>\n",
       "      <td>0</td>\n",
       "      <td>1</td>\n",
       "    </tr>\n",
       "    <tr>\n",
       "      <th>goss wilt</th>\n",
       "      <td>0</td>\n",
       "      <td>7</td>\n",
       "      <td>0</td>\n",
       "      <td>2</td>\n",
       "      <td>1</td>\n",
       "    </tr>\n",
       "    <tr>\n",
       "      <th>healthy</th>\n",
       "      <td>0</td>\n",
       "      <td>0</td>\n",
       "      <td>10</td>\n",
       "      <td>0</td>\n",
       "      <td>0</td>\n",
       "    </tr>\n",
       "    <tr>\n",
       "      <th>physoderma Brown Spot</th>\n",
       "      <td>0</td>\n",
       "      <td>0</td>\n",
       "      <td>0</td>\n",
       "      <td>10</td>\n",
       "      <td>0</td>\n",
       "    </tr>\n",
       "    <tr>\n",
       "      <th>stewart bacterial wilt</th>\n",
       "      <td>0</td>\n",
       "      <td>0</td>\n",
       "      <td>0</td>\n",
       "      <td>0</td>\n",
       "      <td>10</td>\n",
       "    </tr>\n",
       "  </tbody>\n",
       "</table>\n",
       "</div>"
      ],
      "text/plain": [
       "                        eyespot  goss wilt  healthy  physoderma Brown Spot  \\\n",
       "eyespot                       7          2        0                      0   \n",
       "goss wilt                     0          7        0                      2   \n",
       "healthy                       0          0       10                      0   \n",
       "physoderma Brown Spot         0          0        0                     10   \n",
       "stewart bacterial wilt        0          0        0                      0   \n",
       "\n",
       "                        stewart bacterial wilt  \n",
       "eyespot                                      1  \n",
       "goss wilt                                    1  \n",
       "healthy                                      0  \n",
       "physoderma Brown Spot                        0  \n",
       "stewart bacterial wilt                      10  "
      ]
     },
     "execution_count": 17,
     "metadata": {},
     "output_type": "execute_result"
    }
   ],
   "source": [
    "#save confusion matrix dataframe\n",
    "dataframe.to_csv('matrix_df.csv')\n",
    "\n",
    "dataframe"
   ]
  },
  {
   "cell_type": "markdown",
   "metadata": {},
   "source": [
    "## Presenting confusion matrix in a Heatmap"
   ]
  },
  {
   "cell_type": "code",
   "execution_count": 27,
   "metadata": {
    "execution": {
     "iopub.execute_input": "2022-10-08T16:33:12.758939Z",
     "iopub.status.busy": "2022-10-08T16:33:12.758538Z",
     "iopub.status.idle": "2022-10-08T16:33:13.538813Z",
     "shell.execute_reply": "2022-10-08T16:33:13.537806Z",
     "shell.execute_reply.started": "2022-10-08T16:33:12.758903Z"
    }
   },
   "outputs": [
    {
     "data": {
      "image/png": "[encoded data removed]",
      "text/plain": [
       "<Figure size 576x432 with 1 Axes>"
      ]
     },
     "metadata": {
      "image/png": {
       "height": 439,
       "width": 583
      },
      "needs_background": "light"
     },
     "output_type": "display_data"
    }
   ],
   "source": [
    "#Display the confusion matrix as stated in the question in a form of a heatmap\n",
    "plt.figure(figsize=(8, 6))\n",
    "\n",
    "# Create heatmap\n",
    "cfm = sns.heatmap(dataframe, annot=True, cbar=None,cmap=\"YlGnBu\",fmt=\"d\")\n",
    "cfm\n",
    "#set title\n",
    "plt.title(\"Confusion Matrix\"), plt.tight_layout()\n",
    "\n",
    "#set Y label\n",
    "plt.ylabel(\"True Class\"), \n",
    "#set X label\n",
    "plt.xlabel(\"Predicted Class\")\n",
    "#display the heatmap\n",
    "plt.show()\n",
    "figure = cfm.get_figure() \n",
    "#save confusion matrix heatmap\n",
    "figure.savefig('confusion_matrix_heatmap.png', dpi=300)"
   ]
  },
  {
   "cell_type": "markdown",
   "metadata": {},
   "source": [
    "## Calculating Precision, recall and F1 score for every classes"
   ]
  },
  {
   "cell_type": "code",
   "execution_count": 19,
   "metadata": {
    "execution": {
     "iopub.execute_input": "2022-10-08T16:30:28.298917Z",
     "iopub.status.busy": "2022-10-08T16:30:28.298241Z",
     "iopub.status.idle": "2022-10-08T16:30:28.307074Z",
     "shell.execute_reply": "2022-10-08T16:30:28.306107Z",
     "shell.execute_reply.started": "2022-10-08T16:30:28.298879Z"
    }
   },
   "outputs": [],
   "source": [
    "def set_label(y_list, labels=class_names):\n",
    "    \"\"\"\n",
    "    replace the integer value of ith item in a list by their corresponding\n",
    "    class name\n",
    "    \n",
    "    parameters:\n",
    "        y_list - list of either the true value of y or the predicted value of y\n",
    "        label - tuple of class names\n",
    "    \n",
    "    returns:\n",
    "        y_list - y_list with each previous items changed in-place to their \n",
    "        corresponding class names\n",
    "    \n",
    "    \"\"\"\n",
    "    #iterate through the y_list\n",
    "    for i in range(len(y_list)):\n",
    "        #Keep changing integer value to their corresponding class names till the end of the list is reached\n",
    "        if y_list[i]==0:\n",
    "            y_list[i]=labels[0]\n",
    "        \n",
    "        elif y_list[i]==1:\n",
    "            y_list[i]=labels[1]\n",
    "        \n",
    "        elif y_list[i]==2:\n",
    "            y_list[i]=labels[2]\n",
    "        \n",
    "        elif y_list[i]==3:\n",
    "            y_list[i]=labels[3]\n",
    "        \n",
    "        elif y_list[i]==4:\n",
    "            y_list[i]=labels[4]\n",
    "        else:\n",
    "            pass\n",
    "    \n",
    "    return list(y_list)"
   ]
  },
  {
   "cell_type": "code",
   "execution_count": 20,
   "metadata": {
    "execution": {
     "iopub.execute_input": "2022-10-08T16:30:28.309930Z",
     "iopub.status.busy": "2022-10-08T16:30:28.308532Z",
     "iopub.status.idle": "2022-10-08T16:30:28.319896Z",
     "shell.execute_reply": "2022-10-08T16:30:28.318837Z",
     "shell.execute_reply.started": "2022-10-08T16:30:28.309895Z"
    }
   },
   "outputs": [
    {
     "data": {
      "text/plain": [
       "['eyespot',\n",
       " 'eyespot',\n",
       " 'eyespot',\n",
       " 'eyespot',\n",
       " 'eyespot',\n",
       " 'eyespot',\n",
       " 'eyespot',\n",
       " 'eyespot',\n",
       " 'eyespot',\n",
       " 'eyespot',\n",
       " 'goss wilt',\n",
       " 'goss wilt',\n",
       " 'goss wilt',\n",
       " 'goss wilt',\n",
       " 'goss wilt',\n",
       " 'goss wilt',\n",
       " 'goss wilt',\n",
       " 'goss wilt',\n",
       " 'goss wilt',\n",
       " 'goss wilt',\n",
       " 'healthy',\n",
       " 'healthy',\n",
       " 'healthy',\n",
       " 'healthy',\n",
       " 'healthy',\n",
       " 'healthy',\n",
       " 'healthy',\n",
       " 'healthy',\n",
       " 'healthy',\n",
       " 'healthy',\n",
       " 'physoderma Brown Spot',\n",
       " 'physoderma Brown Spot',\n",
       " 'physoderma Brown Spot',\n",
       " 'physoderma Brown Spot',\n",
       " 'physoderma Brown Spot',\n",
       " 'physoderma Brown Spot',\n",
       " 'physoderma Brown Spot',\n",
       " 'physoderma Brown Spot',\n",
       " 'physoderma Brown Spot',\n",
       " 'physoderma Brown Spot',\n",
       " 'stewart bacterial wilt',\n",
       " 'stewart bacterial wilt',\n",
       " 'stewart bacterial wilt',\n",
       " 'stewart bacterial wilt',\n",
       " 'stewart bacterial wilt',\n",
       " 'stewart bacterial wilt',\n",
       " 'stewart bacterial wilt',\n",
       " 'stewart bacterial wilt',\n",
       " 'stewart bacterial wilt',\n",
       " 'stewart bacterial wilt']"
      ]
     },
     "execution_count": 20,
     "metadata": {},
     "output_type": "execute_result"
    }
   ],
   "source": [
    "set_label(y_true)"
   ]
  },
  {
   "cell_type": "code",
   "execution_count": 21,
   "metadata": {
    "execution": {
     "iopub.execute_input": "2022-10-08T16:30:28.322322Z",
     "iopub.status.busy": "2022-10-08T16:30:28.321246Z",
     "iopub.status.idle": "2022-10-08T16:30:28.331800Z",
     "shell.execute_reply": "2022-10-08T16:30:28.330598Z",
     "shell.execute_reply.started": "2022-10-08T16:30:28.322289Z"
    }
   },
   "outputs": [
    {
     "data": {
      "text/plain": [
       "['eyespot',\n",
       " 'eyespot',\n",
       " 'eyespot',\n",
       " 'eyespot',\n",
       " 'goss wilt',\n",
       " 'eyespot',\n",
       " 'eyespot',\n",
       " 'stewart bacterial wilt',\n",
       " 'eyespot',\n",
       " 'goss wilt',\n",
       " 'goss wilt',\n",
       " 'goss wilt',\n",
       " 'goss wilt',\n",
       " 'stewart bacterial wilt',\n",
       " 'goss wilt',\n",
       " 'physoderma Brown Spot',\n",
       " 'goss wilt',\n",
       " 'physoderma Brown Spot',\n",
       " 'goss wilt',\n",
       " 'goss wilt',\n",
       " 'healthy',\n",
       " 'healthy',\n",
       " 'healthy',\n",
       " 'healthy',\n",
       " 'healthy',\n",
       " 'healthy',\n",
       " 'healthy',\n",
       " 'healthy',\n",
       " 'healthy',\n",
       " 'healthy',\n",
       " 'physoderma Brown Spot',\n",
       " 'physoderma Brown Spot',\n",
       " 'physoderma Brown Spot',\n",
       " 'physoderma Brown Spot',\n",
       " 'physoderma Brown Spot',\n",
       " 'physoderma Brown Spot',\n",
       " 'physoderma Brown Spot',\n",
       " 'physoderma Brown Spot',\n",
       " 'physoderma Brown Spot',\n",
       " 'physoderma Brown Spot',\n",
       " 'stewart bacterial wilt',\n",
       " 'stewart bacterial wilt',\n",
       " 'stewart bacterial wilt',\n",
       " 'stewart bacterial wilt',\n",
       " 'stewart bacterial wilt',\n",
       " 'stewart bacterial wilt',\n",
       " 'stewart bacterial wilt',\n",
       " 'stewart bacterial wilt',\n",
       " 'stewart bacterial wilt',\n",
       " 'stewart bacterial wilt']"
      ]
     },
     "execution_count": 21,
     "metadata": {},
     "output_type": "execute_result"
    }
   ],
   "source": [
    "set_label(y_pred)"
   ]
  },
  {
   "cell_type": "code",
   "execution_count": 28,
   "metadata": {
    "execution": {
     "iopub.execute_input": "2022-10-08T16:33:36.532513Z",
     "iopub.status.busy": "2022-10-08T16:33:36.532110Z",
     "iopub.status.idle": "2022-10-08T16:33:36.558944Z",
     "shell.execute_reply": "2022-10-08T16:33:36.558060Z",
     "shell.execute_reply.started": "2022-10-08T16:33:36.532480Z"
    }
   },
   "outputs": [
    {
     "data": {
      "text/html": [
       "<div>\n",
       "<style scoped>\n",
       "    .dataframe tbody tr th:only-of-type {\n",
       "        vertical-align: middle;\n",
       "    }\n",
       "\n",
       "    .dataframe tbody tr th {\n",
       "        vertical-align: top;\n",
       "    }\n",
       "\n",
       "    .dataframe thead th {\n",
       "        text-align: right;\n",
       "    }\n",
       "</style>\n",
       "<table border=\"1\" class=\"dataframe\">\n",
       "  <thead>\n",
       "    <tr style=\"text-align: right;\">\n",
       "      <th></th>\n",
       "      <th>eyespot</th>\n",
       "      <th>goss wilt</th>\n",
       "      <th>healthy</th>\n",
       "      <th>physoderma Brown Spot</th>\n",
       "      <th>stewart bacterial wilt</th>\n",
       "    </tr>\n",
       "  </thead>\n",
       "  <tbody>\n",
       "    <tr>\n",
       "      <th>%precision score</th>\n",
       "      <td>100.0</td>\n",
       "      <td>78.0</td>\n",
       "      <td>100.0</td>\n",
       "      <td>83.0</td>\n",
       "      <td>83.0</td>\n",
       "    </tr>\n",
       "    <tr>\n",
       "      <th>%recall score</th>\n",
       "      <td>70.0</td>\n",
       "      <td>70.0</td>\n",
       "      <td>100.0</td>\n",
       "      <td>100.0</td>\n",
       "      <td>100.0</td>\n",
       "    </tr>\n",
       "    <tr>\n",
       "      <th>%f1 score</th>\n",
       "      <td>82.0</td>\n",
       "      <td>74.0</td>\n",
       "      <td>100.0</td>\n",
       "      <td>91.0</td>\n",
       "      <td>91.0</td>\n",
       "    </tr>\n",
       "    <tr>\n",
       "      <th>value count</th>\n",
       "      <td>10.0</td>\n",
       "      <td>10.0</td>\n",
       "      <td>10.0</td>\n",
       "      <td>10.0</td>\n",
       "      <td>10.0</td>\n",
       "    </tr>\n",
       "  </tbody>\n",
       "</table>\n",
       "</div>"
      ],
      "text/plain": [
       "                  eyespot  goss wilt  healthy  physoderma Brown Spot  \\\n",
       "%precision score    100.0       78.0    100.0                   83.0   \n",
       "%recall score        70.0       70.0    100.0                  100.0   \n",
       "%f1 score            82.0       74.0    100.0                   91.0   \n",
       "value count          10.0       10.0     10.0                   10.0   \n",
       "\n",
       "                  stewart bacterial wilt  \n",
       "%precision score                    83.0  \n",
       "%recall score                      100.0  \n",
       "%f1 score                           91.0  \n",
       "value count                         10.0  "
      ]
     },
     "execution_count": 28,
     "metadata": {},
     "output_type": "execute_result"
    }
   ],
   "source": [
    "# Calculate precision recall and f1 score metrics\n",
    "metric = precision_recall_fscore_support(y_true, y_pred, average=None,labels=list(class_names))\n",
    "\n",
    "df = pd.DataFrame(metric, columns = list(class_names), index=['%precision score', '%recall score', '%f1 score', 'value count'])\n",
    "# round df to the nearest decimal\n",
    "df = df.round(2)\n",
    "#calculate percentage of all metrics in df\n",
    "df[:-1] = df[:-1]*100\n",
    "#save dataframe in csv format\n",
    "df.to_csv('conf_matrix_dataframe.csv')\n",
    "\n",
    "df"
   ]
  },
  {
   "cell_type": "code",
   "execution_count": 23,
   "metadata": {
    "execution": {
     "iopub.execute_input": "2022-10-08T16:30:28.360142Z",
     "iopub.status.busy": "2022-10-08T16:30:28.359718Z",
     "iopub.status.idle": "2022-10-08T16:30:28.367016Z",
     "shell.execute_reply": "2022-10-08T16:30:28.366041Z",
     "shell.execute_reply.started": "2022-10-08T16:30:28.360107Z"
    }
   },
   "outputs": [
    {
     "data": {
      "text/plain": [
       "array([[100. ,  77.8, 100. ,  83.3,  83.3],\n",
       "       [ 70. ,  70. , 100. , 100. , 100. ],\n",
       "       [ 82.4,  73.7, 100. ,  90.9,  90.9]])"
      ]
     },
     "execution_count": 23,
     "metadata": {},
     "output_type": "execute_result"
    }
   ],
   "source": [
    "#round value to the nearest decimal\n",
    "metric = np.round_(metric[:3], decimals = 3)*100\n",
    "\n",
    "metric"
   ]
  },
  {
   "cell_type": "code",
   "execution_count": 24,
   "metadata": {
    "execution": {
     "iopub.execute_input": "2022-10-08T16:30:28.369562Z",
     "iopub.status.busy": "2022-10-08T16:30:28.368693Z",
     "iopub.status.idle": "2022-10-08T16:30:28.380129Z",
     "shell.execute_reply": "2022-10-08T16:30:28.379046Z",
     "shell.execute_reply.started": "2022-10-08T16:30:28.369510Z"
    }
   },
   "outputs": [
    {
     "name": "stdout",
     "output_type": "stream",
     "text": [
      "eyespot precision:  100.0 \n",
      "goss wilt precision:  77.8 \n",
      "healthy precision:  100.0 \n",
      "physoderma Brown Spot:  83.3 \n",
      "stewart bacterial wilt precision:  83.3\n"
     ]
    }
   ],
   "source": [
    "# display Precision metric in percentage for each class\n",
    "print('eyespot precision: ', metric[0][0], '\\ngoss wilt precision: ', round(metric[0][1], 3), '\\nhealthy precision: ', metric[0][2], \n",
    "      '\\nphysoderma Brown Spot: ', metric[0][3], '\\nstewart bacterial wilt precision: ', metric[0][4])"
   ]
  },
  {
   "cell_type": "code",
   "execution_count": 25,
   "metadata": {
    "execution": {
     "iopub.execute_input": "2022-10-08T16:30:28.382211Z",
     "iopub.status.busy": "2022-10-08T16:30:28.381444Z",
     "iopub.status.idle": "2022-10-08T16:30:28.391631Z",
     "shell.execute_reply": "2022-10-08T16:30:28.390782Z",
     "shell.execute_reply.started": "2022-10-08T16:30:28.382172Z"
    }
   },
   "outputs": [
    {
     "name": "stdout",
     "output_type": "stream",
     "text": [
      "eyespot recall:  70.0 \n",
      "goss wilt recall:  70.0 \n",
      "healthy recall:  100.0 \n",
      "physoderma Brown Spot recall :  100.0 \n",
      "stewart bacterial wilt recall:  100.0\n"
     ]
    }
   ],
   "source": [
    "# display Recall metric in percentage for each class\n",
    "print('eyespot recall: ', metric[1][0], '\\ngoss wilt recall: ', metric[1][1], '\\nhealthy recall: ', metric[1][2], \n",
    "      '\\nphysoderma Brown Spot recall : ', metric[1][3], '\\nstewart bacterial wilt recall: ', metric[1][4])"
   ]
  },
  {
   "cell_type": "code",
   "execution_count": 26,
   "metadata": {
    "execution": {
     "iopub.execute_input": "2022-10-08T16:30:28.393546Z",
     "iopub.status.busy": "2022-10-08T16:30:28.392872Z",
     "iopub.status.idle": "2022-10-08T16:30:28.406176Z",
     "shell.execute_reply": "2022-10-08T16:30:28.405486Z",
     "shell.execute_reply.started": "2022-10-08T16:30:28.393511Z"
    }
   },
   "outputs": [
    {
     "name": "stdout",
     "output_type": "stream",
     "text": [
      "eyespot f1:  82.4 \n",
      "goss wilt f1:  73.7 \n",
      "healthy f1:  100.0 \n",
      "physoderma Brown Spot f1 :  90.9 \n",
      "stewart bacterial wilt f1:  90.9\n"
     ]
    }
   ],
   "source": [
    "# display F1 score metric in percentage for each class\n",
    "print('eyespot f1: ', round(metric[2][0], 3), '\\ngoss wilt f1: ', metric[2][1], '\\nhealthy f1: ', metric[2][2],\n",
    "      '\\nphysoderma Brown Spot f1 : ', metric[2][3], '\\nstewart bacterial wilt f1: ', metric[2][4])"
   ]
  }
 ],
 "metadata": {
  "kernelspec": {
   "display_name": "Python 3 (ipykernel)",
   "language": "python",
   "name": "python3"
  },
  "language_info": {
   "codemirror_mode": {
    "name": "ipython",
    "version": 3
   },
   "file_extension": ".py",
   "mimetype": "text/x-python",
   "name": "python",
   "nbconvert_exporter": "python",
   "pygments_lexer": "ipython3",
   "version": "3.10.5"
  }
 },
 "nbformat": 4,
 "nbformat_minor": 4
}
